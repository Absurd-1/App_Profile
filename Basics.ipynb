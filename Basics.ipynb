{
 "cells": [
  {
   "cell_type": "markdown",
   "metadata": {},
   "source": [
    "## Applications that attracts more usage\n",
    "\n",
    "In this project, I will be analysing the data based on free applications our company produces. The end goal is to discover which categories of applications attract more user usage and consequently promotes more ads. "
   ]
  },
  {
   "cell_type": "code",
   "execution_count": 1,
   "metadata": {
    "collapsed": false
   },
   "outputs": [
    {
     "name": "stdout",
     "output_type": "stream",
     "text": [
      "775873865\n",
      "Age of Conquest: N. America\n"
     ]
    }
   ],
   "source": [
    "apple_store = open('AppleStore.csv')\n",
    "from csv import reader\n",
    "apple_read = reader(apple_store)\n",
    "apple_file = list(apple_read)\n",
    "\n",
    "print(apple_file[6731][0])\n",
    "google_store = open('googleplaystore.csv')\n",
    "from csv import reader\n",
    "google_read = reader(google_store)\n",
    "google_file = list(google_read)\n",
    "del google_file[10473]\n",
    "print(google_file[4412][0])"
   ]
  },
  {
   "cell_type": "code",
   "execution_count": 2,
   "metadata": {
    "collapsed": true
   },
   "outputs": [],
   "source": [
    "def explore_data(dataset, start, end, rows_and_columns=False):\n",
    "    dataset_slice = dataset[start:end]\n",
    "    for row in dataset_slice:\n",
    "        print(row)\n",
    "        print('\\n')\n",
    "    if rows_and_columns:\n",
    "        print('Number of rows:', len(dataset))\n",
    "        print('Number of columns:', len(dataset[0]))"
   ]
  },
  {
   "cell_type": "code",
   "execution_count": 3,
   "metadata": {
    "collapsed": false
   },
   "outputs": [
    {
     "name": "stdout",
     "output_type": "stream",
     "text": [
      "['id', 'track_name', 'size_bytes', 'currency', 'price', 'rating_count_tot', 'rating_count_ver', 'user_rating', 'user_rating_ver', 'ver', 'cont_rating', 'prime_genre', 'sup_devices.num', 'ipadSc_urls.num', 'lang.num', 'vpp_lic']\n",
      "\n",
      "\n",
      "['284882215', 'Facebook', '389879808', 'USD', '0.0', '2974676', '212', '3.5', '3.5', '95.0', '4+', 'Social Networking', '37', '1', '29', '1']\n",
      "\n",
      "\n",
      "['389801252', 'Instagram', '113954816', 'USD', '0.0', '2161558', '1289', '4.5', '4.0', '10.23', '12+', 'Photo & Video', '37', '0', '29', '1']\n",
      "\n",
      "\n",
      "['529479190', 'Clash of Clans', '116476928', 'USD', '0.0', '2130805', '579', '4.5', '4.5', '9.24.12', '9+', 'Games', '38', '5', '18', '1']\n",
      "\n",
      "\n",
      "Number of rows: 7198\n",
      "Number of columns: 16\n",
      "['App', 'Category', 'Rating', 'Reviews', 'Size', 'Installs', 'Type', 'Price', 'Content Rating', 'Genres', 'Last Updated', 'Current Ver', 'Android Ver']\n",
      "\n",
      "\n",
      "['Photo Editor & Candy Camera & Grid & ScrapBook', 'ART_AND_DESIGN', '4.1', '159', '19M', '10,000+', 'Free', '0', 'Everyone', 'Art & Design', 'January 7, 2018', '1.0.0', '4.0.3 and up']\n",
      "\n",
      "\n",
      "['Coloring book moana', 'ART_AND_DESIGN', '3.9', '967', '14M', '500,000+', 'Free', '0', 'Everyone', 'Art & Design;Pretend Play', 'January 15, 2018', '2.0.0', '4.0.3 and up']\n",
      "\n",
      "\n",
      "['U Launcher Lite – FREE Live Cool Themes, Hide Apps', 'ART_AND_DESIGN', '4.7', '87510', '8.7M', '5,000,000+', 'Free', '0', 'Everyone', 'Art & Design', 'August 1, 2018', '1.2.4', '4.0.3 and up']\n",
      "\n",
      "\n",
      "Number of rows: 10841\n",
      "Number of columns: 13\n"
     ]
    }
   ],
   "source": [
    "explore_data(apple_file, 0, 4, True)\n",
    "explore_data(google_file, 0, 4, True)"
   ]
  },
  {
   "cell_type": "code",
   "execution_count": 4,
   "metadata": {
    "collapsed": false
   },
   "outputs": [
    {
     "name": "stdout",
     "output_type": "stream",
     "text": [
      "['id', 'track_name', 'size_bytes', 'currency', 'price', 'rating_count_tot', 'rating_count_ver', 'user_rating', 'user_rating_ver', 'ver', 'cont_rating', 'prime_genre', 'sup_devices.num', 'ipadSc_urls.num', 'lang.num', 'vpp_lic']\n",
      "\n",
      "\n",
      "\n",
      "\n",
      "['App', 'Category', 'Rating', 'Reviews', 'Size', 'Installs', 'Type', 'Price', 'Content Rating', 'Genres', 'Last Updated', 'Current Ver', 'Android Ver']\n"
     ]
    }
   ],
   "source": [
    "print(apple_file[0])\n",
    "print('\\n')\n",
    "print('\\n')\n",
    "print(google_file[0])"
   ]
  },
  {
   "cell_type": "code",
   "execution_count": 5,
   "metadata": {
    "collapsed": false
   },
   "outputs": [
    {
     "name": "stdout",
     "output_type": "stream",
     "text": [
      "['Xposed Wi-Fi-Pwd', 'PERSONALIZATION', '3.5', '1042', '404k', '100,000+', 'Free', '0', 'Everyone', 'Personalization', 'August 5, 2014', '3.0.0', '4.0.3 and up']\n",
      "\n",
      "\n",
      "['osmino Wi-Fi: free WiFi', 'TOOLS', '4.2', '134203', '4.1M', '10,000,000+', 'Free', '0', 'Everyone', 'Tools', 'August 7, 2018', '6.06.14', '4.4 and up']\n"
     ]
    }
   ],
   "source": [
    "wrong_row = google_file[10472]\n",
    "wrong_row1 = google_file[10473]\n",
    "print(wrong_row)\n",
    "print('\\n')\n",
    "print(wrong_row1)"
   ]
  },
  {
   "cell_type": "markdown",
   "metadata": {},
   "source": [
    "The csv data from google play store has some duplicate information. I will be cleaning the data off it in the next cell\n",
    "\n",
    "To remove these duplicates, I will not just be doing it randomly. The reason is that, the number of reviews for the duplicates are different so it would be better to choose the one with the highest review"
   ]
  },
  {
   "cell_type": "code",
   "execution_count": 6,
   "metadata": {
    "collapsed": false
   },
   "outputs": [
    {
     "name": "stdout",
     "output_type": "stream",
     "text": [
      "Duplicate apps: ['Quick PDF Scanner + OCR FREE', 'Box', 'Google My Business', 'ZOOM Cloud Meetings', 'join.me - Simple Meetings', 'Box', 'Zenefits', 'Google Ads', 'Google My Business', 'Slack', 'FreshBooks Classic', 'Insightly CRM', 'QuickBooks Accounting: Invoicing & Expenses', 'HipChat - Chat Built for Teams', 'Xero Accounting Software']\n",
      "\n",
      "\n",
      "Number of Duplicate: 1181\n",
      "['Quick PDF Scanner + OCR FREE', 'BUSINESS', '4.2', '80805', 'Varies with device', '5,000,000+', 'Free', '0', 'Everyone', 'Business', 'February 26, 2018', 'Varies with device', '4.0.3 and up']\n",
      "['Quick PDF Scanner + OCR FREE', 'BUSINESS', '4.2', '80805', 'Varies with device', '5,000,000+', 'Free', '0', 'Everyone', 'Business', 'February 26, 2018', 'Varies with device', '4.0.3 and up']\n",
      "['Quick PDF Scanner + OCR FREE', 'BUSINESS', '4.2', '80804', 'Varies with device', '5,000,000+', 'Free', '0', 'Everyone', 'Business', 'February 26, 2018', 'Varies with device', '4.0.3 and up']\n"
     ]
    }
   ],
   "source": [
    "duplicate_entries = []\n",
    "unique_entries = []\n",
    "\n",
    "for row in google_file:\n",
    "    name_tag = row[0]\n",
    "    if name_tag in unique_entries:\n",
    "        duplicate_entries.append(name_tag)\n",
    "    else:\n",
    "        unique_entries.append(name_tag)\n",
    "\n",
    "print('Duplicate apps:', duplicate_entries[:15])\n",
    "print('\\n')\n",
    "print('Number of Duplicate:', len(duplicate_entries))\n",
    "\n",
    "for app in google_file:\n",
    "    name = app[0]\n",
    "    if name == 'Quick PDF Scanner + OCR FREE':\n",
    "        print(app)"
   ]
  },
  {
   "cell_type": "markdown",
   "metadata": {},
   "source": [
    "## A bit explanation on the next cell\n",
    "\n",
    "To extract the duplicate row that has the highest number of reviews, an if statement inspecting the empty dictionary for name and the corresponding value is used. This is to ensure that only one app with the highest review is added into dict review_max"
   ]
  },
  {
   "cell_type": "code",
   "execution_count": 7,
   "metadata": {
    "collapsed": false
   },
   "outputs": [
    {
     "name": "stdout",
     "output_type": "stream",
     "text": [
      "9659\n"
     ]
    }
   ],
   "source": [
    "reviews_max = {}\n",
    "\n",
    "for row in google_file[1:]:\n",
    "    name = row[0]\n",
    "    n_reviews = float(row[3])\n",
    "    if name in reviews_max and reviews_max[name] < n_reviews:\n",
    "        reviews_max[name] = n_reviews\n",
    "    if name not in reviews_max:\n",
    "        reviews_max[name] = n_reviews\n",
    "        \n",
    "android_clean = []\n",
    "already_added = []\n",
    "for row in google_file[1:]:\n",
    "    name = row[0]\n",
    "    n_reviews = float(row[3])\n",
    "    if n_reviews == reviews_max[name] and name not in already_added:\n",
    "        android_clean.append(row)\n",
    "        already_added.append(name)\n",
    "        \n",
    "print(len(android_clean))"
   ]
  },
  {
   "cell_type": "code",
   "execution_count": 8,
   "metadata": {
    "collapsed": false
   },
   "outputs": [
    {
     "data": {
      "text/plain": [
       "True"
      ]
     },
     "execution_count": 8,
     "metadata": {},
     "output_type": "execute_result"
    }
   ],
   "source": [
    "def non_english(string):\n",
    "    num = 0\n",
    "    for letter in string:\n",
    "        checking = ord(letter)\n",
    "        if checking > 127:\n",
    "            num += 1\n",
    "            if num > 3:\n",
    "                return False\n",
    "    return True\n",
    "non_english('Docs To Go™ Free Office Suite')"
   ]
  },
  {
   "cell_type": "code",
   "execution_count": 9,
   "metadata": {
    "collapsed": false
   },
   "outputs": [
    {
     "name": "stdout",
     "output_type": "stream",
     "text": [
      "7197\n",
      "9614\n",
      "['Pixel Draw - Number Art Coloring Book', 'ART_AND_DESIGN', '4.3', '967', '2.8M', '100,000+', 'Free', '0', 'Everyone', 'Art & Design;Creativity', 'June 20, 2018', '1.1', '4.4 and up']\n"
     ]
    }
   ],
   "source": [
    "english_apple_app = []\n",
    "for row in apple_file[1:]:\n",
    "    name = row[0]\n",
    "    decide = non_english(name)\n",
    "    if decide:\n",
    "        english_apple_app.append(row)\n",
    "        \n",
    "english_android_app = []\n",
    "for row in android_clean:\n",
    "    name = row[0]\n",
    "    decide = non_english(name)\n",
    "    if decide:\n",
    "        english_android_app.append(row) \n",
    "    \n",
    "print(len(english_apple_app))\n",
    "print(len(english_android_app))\n",
    "print(google_file[5])"
   ]
  },
  {
   "cell_type": "code",
   "execution_count": 10,
   "metadata": {
    "collapsed": false
   },
   "outputs": [
    {
     "name": "stdout",
     "output_type": "stream",
     "text": [
      "4056\n",
      "8863\n"
     ]
    }
   ],
   "source": [
    "free_apple_app = []\n",
    "for row in english_apple_app:\n",
    "    price = float(row[4])\n",
    "    if price == 0.0:\n",
    "        free_apple_app.append(row)\n",
    "print(len(free_apple_app))\n",
    "        \n",
    "free_android_app = []\n",
    "for row in english_android_app:\n",
    "    price = (row[6])\n",
    "    if price == 'Free':\n",
    "        free_android_app.append(row)\n",
    "print(len(free_android_app))\n",
    "\n",
    "        "
   ]
  },
  {
   "cell_type": "markdown",
   "metadata": {},
   "source": [
    "```\n",
    "To ensure that the analysis caters for the possibility of the app work well both in the google and apple store, the data would be cleaned to contain only apps that worked well in both markets\n",
    "```"
   ]
  },
  {
   "cell_type": "code",
   "execution_count": 11,
   "metadata": {
    "collapsed": false
   },
   "outputs": [
    {
     "name": "stdout",
     "output_type": "stream",
     "text": [
      "['284882215', 'Facebook', '389879808', 'USD', '0.0', '2974676', '212', '3.5', '3.5', '95.0', '4+', 'Social Networking', '37', '1', '29', '1']\n",
      "\n",
      "\n",
      "['389801252', 'Instagram', '113954816', 'USD', '0.0', '2161558', '1289', '4.5', '4.0', '10.23', '12+', 'Photo & Video', '37', '0', '29', '1']\n",
      "\n",
      "\n",
      "['Photo Editor & Candy Camera & Grid & ScrapBook', 'ART_AND_DESIGN', '4.1', '159', '19M', '10,000+', 'Free', '0', 'Everyone', 'Art & Design', 'January 7, 2018', '1.0.0', '4.0.3 and up']\n",
      "\n",
      "\n",
      "['U Launcher Lite – FREE Live Cool Themes, Hide Apps', 'ART_AND_DESIGN', '4.7', '87510', '8.7M', '5,000,000+', 'Free', '0', 'Everyone', 'Art & Design', 'August 1, 2018', '1.2.4', '4.0.3 and up']\n",
      "\n",
      "\n"
     ]
    }
   ],
   "source": [
    "explore_data(free_apple_app, 0, 2)\n",
    "explore_data(free_android_app, 0, 2)"
   ]
  },
  {
   "cell_type": "code",
   "execution_count": 12,
   "metadata": {
    "collapsed": false
   },
   "outputs": [
    {
     "name": "stdout",
     "output_type": "stream",
     "text": [
      "Games : 55.64595660749507\n",
      "Entertainment : 8.234714003944774\n",
      "Photo & Video : 4.117357001972387\n",
      "Social Networking : 3.5256410256410255\n",
      "Education : 3.2544378698224854\n",
      "Shopping : 2.983234714003945\n",
      "Utilities : 2.687376725838264\n",
      "Lifestyle : 2.3175542406311638\n",
      "Finance : 2.0710059171597637\n",
      "Sports : 1.947731755424063\n",
      "Health & Fitness : 1.8737672583826428\n",
      "Music : 1.6518737672583828\n",
      "Book : 1.6272189349112427\n",
      "Productivity : 1.5285996055226825\n",
      "News : 1.4299802761341223\n",
      "Travel : 1.3806706114398422\n",
      "Food & Drink : 1.0601577909270217\n",
      "Weather : 0.7642998027613412\n",
      "Reference : 0.4930966469428008\n",
      "Navigation : 0.4930966469428008\n",
      "Business : 0.4930966469428008\n",
      "Catalogs : 0.22189349112426035\n",
      "Medical : 0.19723865877712032\n",
      "FAMILY : 18.898792733837304\n",
      "GAME : 9.725826469592688\n",
      "TOOLS : 8.462146000225657\n",
      "BUSINESS : 4.592124562789123\n",
      "LIFESTYLE : 3.9038700214374367\n",
      "PRODUCTIVITY : 3.8925871601038025\n",
      "FINANCE : 3.7007785174320205\n",
      "MEDICAL : 3.5315355974275078\n",
      "SPORTS : 3.396141261423897\n",
      "PERSONALIZATION : 3.317161232088458\n",
      "COMMUNICATION : 3.2381812027530184\n",
      "HEALTH_AND_FITNESS : 3.0802211440821394\n",
      "PHOTOGRAPHY : 2.944826808078529\n",
      "NEWS_AND_MAGAZINES : 2.798149610741284\n",
      "SOCIAL : 2.6627552747376737\n",
      "TRAVEL_AND_LOCAL : 2.335552296062281\n",
      "SHOPPING : 2.245289405393208\n",
      "BOOKS_AND_REFERENCE : 2.1437436533904997\n",
      "DATING : 1.8616721200496444\n",
      "VIDEO_PLAYERS : 1.7939749520478394\n",
      "MAPS_AND_NAVIGATION : 1.399074805370642\n",
      "FOOD_AND_DRINK : 1.241114746699763\n",
      "EDUCATION : 1.1621347173643235\n",
      "ENTERTAINMENT : 0.9590432133589079\n",
      "LIBRARIES_AND_DEMO : 0.9364774906916393\n",
      "AUTO_AND_VEHICLES : 0.9251946293580051\n",
      "HOUSE_AND_HOME : 0.8236488773552973\n",
      "WEATHER : 0.8010831546880289\n",
      "EVENTS : 0.7108202640189552\n",
      "PARENTING : 0.6544059573507841\n",
      "ART_AND_DESIGN : 0.6431230960171499\n",
      "COMICS : 0.6205573733498815\n",
      "BEAUTY : 0.5979916506826132\n"
     ]
    }
   ],
   "source": [
    "def freq_table(data_set, n):\n",
    "    new_set = {}\n",
    "    percent_set = {}\n",
    "    for row in data_set:\n",
    "        name = row[n]\n",
    "        if name in new_set:\n",
    "            new_set[name] += 1\n",
    "        else:\n",
    "            new_set[name] = 1\n",
    "    for keys in new_set:\n",
    "        new_info = (new_set[keys] / len(data_set)) * 100\n",
    "        percent_set[keys] = new_info\n",
    "    return percent_set\n",
    "\n",
    "def display_table(dataset, index):\n",
    "    table = freq_table(dataset, index)\n",
    "    table_display = []\n",
    "    for key in table:\n",
    "        key_val_as_tuple = (table[key], key)\n",
    "        table_display.append(key_val_as_tuple)\n",
    "\n",
    "    table_sorted = sorted(table_display, reverse = True)\n",
    "    for entry in table_sorted:\n",
    "        print(entry[1], ':', entry[0])\n",
    "        \n",
    "display_table(free_apple_app, 11)\n",
    "display_table(free_android_app, 1)\n",
    "        "
   ]
  },
  {
   "cell_type": "code",
   "execution_count": 18,
   "metadata": {
    "collapsed": false
   },
   "outputs": [
    {
     "name": "stdout",
     "output_type": "stream",
     "text": [
      "['id', 'track_name', 'size_bytes', 'currency', 'price', 'rating_count_tot', 'rating_count_ver', 'user_rating', 'user_rating_ver', 'ver', 'cont_rating', 'prime_genre', 'sup_devices.num', 'ipadSc_urls.num', 'lang.num', 'vpp_lic']\n",
      "['U Launcher Lite – FREE Live Cool Themes, Hide Apps', 'ART_AND_DESIGN', '4.7', '87510', '8.7M', '5,000,000+', 'Free', '0', 'Everyone', 'Art & Design', 'August 1, 2018', '1.2.4', '4.0.3 and up']\n",
      "Travel  : 20216.01785714286\n",
      "Music  : 56482.02985074627\n",
      "Catalogs  : 1779.5555555555557\n",
      "Book  : 8498.333333333334\n",
      "Utilities  : 14010.100917431193\n",
      "Social Networking  : 53078.195804195806\n",
      "Reference  : 67447.9\n",
      "Business  : 6367.8\n",
      "Navigation  : 25972.05\n",
      "Photo & Video  : 27249.892215568863\n",
      "Shopping  : 18746.677685950413\n",
      "Education  : 6266.333333333333\n",
      "Lifestyle  : 8978.308510638299\n",
      "News  : 15892.724137931034\n",
      "Games  : 18924.68896765618\n",
      "Medical  : 459.75\n",
      "Weather  : 47220.93548387097\n",
      "Productivity  : 19053.887096774193\n",
      "Entertainment  : 10822.961077844311\n",
      "Food & Drink  : 20179.093023255813\n",
      "Finance  : 13522.261904761905\n",
      "Sports  : 20128.974683544304\n",
      "Health & Fitness  : 19952.315789473683\n"
     ]
    }
   ],
   "source": [
    "print(apple_file[0])\n",
    "print(free_android_app[1])\n",
    "\n",
    "table = freq_table(free_apple_app, 11)\n",
    "\n",
    "for unique_genre in table:\n",
    "    total = 0\n",
    "    rating_num = 0\n",
    "    unique = unique_genre\n",
    "    for general in free_apple_app:\n",
    "        genre_column = general[11]\n",
    "        if genre_column == unique:\n",
    "            total += 1\n",
    "            rating_num += float(general[5])\n",
    "    avg_users = rating_num / total\n",
    "    print(unique, ' :', avg_users)"
   ]
  },
  {
   "cell_type": "markdown",
   "metadata": {
    "collapsed": true
   },
   "source": [
    "```It is evident from the analysis above that the applications under Reference category has the highest number of downloads```  "
   ]
  },
  {
   "cell_type": "code",
   "execution_count": 29,
   "metadata": {
    "collapsed": false
   },
   "outputs": [
    {
     "name": "stdout",
     "output_type": "stream",
     "text": [
      "{'BOOKS_AND_REFERENCE': 2.1437436533904997, 'HEALTH_AND_FITNESS': 3.0802211440821394, 'DATING': 1.8616721200496444, 'LIFESTYLE': 3.9038700214374367, 'PRODUCTIVITY': 3.8925871601038025, 'BUSINESS': 4.592124562789123, 'TRAVEL_AND_LOCAL': 2.335552296062281, 'ENTERTAINMENT': 0.9590432133589079, 'MAPS_AND_NAVIGATION': 1.399074805370642, 'MEDICAL': 3.5315355974275078, 'COMMUNICATION': 3.2381812027530184, 'PHOTOGRAPHY': 2.944826808078529, 'BEAUTY': 0.5979916506826132, 'FOOD_AND_DRINK': 1.241114746699763, 'LIBRARIES_AND_DEMO': 0.9364774906916393, 'GAME': 9.725826469592688, 'PARENTING': 0.6544059573507841, 'HOUSE_AND_HOME': 0.8236488773552973, 'FINANCE': 3.7007785174320205, 'FAMILY': 18.898792733837304, 'EDUCATION': 1.1621347173643235, 'SOCIAL': 2.6627552747376737, 'WEATHER': 0.8010831546880289, 'EVENTS': 0.7108202640189552, 'NEWS_AND_MAGAZINES': 2.798149610741284, 'SHOPPING': 2.245289405393208, 'ART_AND_DESIGN': 0.6431230960171499, 'SPORTS': 3.396141261423897, 'VIDEO_PLAYERS': 1.7939749520478394, 'COMICS': 0.6205573733498815, 'PERSONALIZATION': 3.317161232088458, 'AUTO_AND_VEHICLES': 0.9251946293580051, 'TOOLS': 8.462146000225657}\n",
      "BOOKS_AND_REFERENCE  : 8767811.894736841\n",
      "HEALTH_AND_FITNESS  : 4188821.9853479853\n",
      "DATING  : 854028.8303030303\n",
      "LIFESTYLE  : 1437816.2687861272\n",
      "PRODUCTIVITY  : 16787331.344927534\n",
      "BUSINESS  : 1712290.1474201474\n",
      "TRAVEL_AND_LOCAL  : 13984077.710144928\n",
      "ENTERTAINMENT  : 11640705.88235294\n",
      "MAPS_AND_NAVIGATION  : 4056941.7741935486\n",
      "MEDICAL  : 120550.61980830671\n",
      "COMMUNICATION  : 38456119.167247385\n",
      "PHOTOGRAPHY  : 17840110.40229885\n",
      "BEAUTY  : 513151.88679245283\n",
      "FOOD_AND_DRINK  : 1924897.7363636363\n",
      "LIBRARIES_AND_DEMO  : 638503.734939759\n",
      "GAME  : 15588015.603248259\n",
      "PARENTING  : 542603.6206896552\n",
      "HOUSE_AND_HOME  : 1331540.5616438356\n",
      "FINANCE  : 1387692.475609756\n",
      "FAMILY  : 3697848.1731343283\n",
      "EDUCATION  : 1833495.145631068\n",
      "SOCIAL  : 23253652.127118643\n",
      "WEATHER  : 5074486.197183099\n",
      "EVENTS  : 253542.22222222222\n",
      "NEWS_AND_MAGAZINES  : 9549178.467741935\n",
      "SHOPPING  : 7036877.311557789\n",
      "ART_AND_DESIGN  : 1986335.0877192982\n",
      "SPORTS  : 3638640.1428571427\n",
      "VIDEO_PLAYERS  : 24727872.452830188\n",
      "COMICS  : 817657.2727272727\n",
      "PERSONALIZATION  : 5201482.6122448975\n",
      "AUTO_AND_VEHICLES  : 647317.8170731707\n",
      "TOOLS  : 10801391.298666667\n"
     ]
    }
   ],
   "source": [
    "table = freq_table(free_android_app, 1)\n",
    "print(table)\n",
    "for unique_genre in table:\n",
    "    total = 0\n",
    "    rating_final = 0\n",
    "    unique = unique_genre\n",
    "    for general in free_android_app:\n",
    "        genre_column = general[1]\n",
    "        if genre_column == unique:\n",
    "            total += 1\n",
    "            rating_num = general[5].replace(',', '')\n",
    "            rating_num = rating_num.replace('+', '')\n",
    "            rating_float = float(rating_num)\n",
    "            rating_final += rating_float\n",
    "    \n",
    "    avg_users = rating_final / total\n",
    "    print(unique, ' :', avg_users)"
   ]
  },
  {
   "cell_type": "markdown",
   "metadata": {},
   "source": [
    "*From the analysis, reccomendation could b made on which category of app should be produ*"
   ]
  }
 ],
 "metadata": {
  "kernelspec": {
   "display_name": "Python 3",
   "language": "python",
   "name": "python3"
  },
  "language_info": {
   "codemirror_mode": {
    "name": "ipython",
    "version": 3
   },
   "file_extension": ".py",
   "mimetype": "text/x-python",
   "name": "python",
   "nbconvert_exporter": "python",
   "pygments_lexer": "ipython3",
   "version": "3.4.3"
  }
 },
 "nbformat": 4,
 "nbformat_minor": 2
}
