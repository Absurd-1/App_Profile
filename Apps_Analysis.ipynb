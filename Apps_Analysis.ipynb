{
  "nbformat": 4,
  "nbformat_minor": 0,
  "metadata": {
    "kernelspec": {
      "display_name": "Python 3",
      "language": "python",
      "name": "python3"
    },
    "language_info": {
      "codemirror_mode": {
        "name": "ipython",
        "version": 3
      },
      "file_extension": ".py",
      "mimetype": "text/x-python",
      "name": "python",
      "nbconvert_exporter": "python",
      "pygments_lexer": "ipython3",
      "version": "3.7.1"
    },
    "colab": {
      "name": "Apps Analysis.ipynb",
      "provenance": []
    }
  },
  "cells": [
    {
      "cell_type": "markdown",
      "metadata": {
        "id": "lTdZjlpyEHJX",
        "colab_type": "text"
      },
      "source": [
        "# Analysis of a dataset to determine an app profitability via ad\n",
        "\n",
        "```\n",
        "A dataset on a several apps that has been collected over the years on Google and Apple play store will be analyzed to determine the profitability of a particular genre of app and drive business decision (to launch a free app whose revenue is based on ads on Google store and then Apple store).\n",
        "```"
      ]
    },
    {
      "cell_type": "code",
      "metadata": {
        "id": "hFh6ovP_EHJi",
        "colab_type": "code",
        "colab": {},
        "outputId": "5875edeb-3b14-4a7d-98fe-9e1237a7ae5b"
      },
      "source": [
        "import csv\n",
        "def file_list(file):        #function that open a csv file as a list\n",
        "    file_open = open(file, encoding='utf8')\n",
        "    file_read = csv.reader(file_open)\n",
        "    file_list = list(file_read)\n",
        "    \n",
        "    file_data = file_list[1:]\n",
        "    columns = file_list[0]\n",
        "    return columns, file_data\n",
        "\n",
        "google_column, google_file = file_list('googleplaystore.csv')\n",
        "apple_column, apple_file = file_list('AppleStore.csv')\n",
        "\n",
        "def explore_data(file, row_and_column=False):        #function that displays snippets of a dataset\n",
        "    if row_and_column:\n",
        "        print((len(file), len(file[0])))\n",
        "        print('\\n')\n",
        "    \n",
        "    print(file[:5])\n",
        "    return\n",
        "explore_data(google_file, True)\n",
        "print('\\n')\n",
        "explore_data(apple_file, True)\n"
      ],
      "execution_count": 0,
      "outputs": [
        {
          "output_type": "stream",
          "text": [
            "(10841, 13)\n",
            "\n",
            "\n",
            "[['Photo Editor & Candy Camera & Grid & ScrapBook', 'ART_AND_DESIGN', '4.1', '159', '19M', '10,000+', 'Free', '0', 'Everyone', 'Art & Design', 'January 7, 2018', '1.0.0', '4.0.3 and up'], ['Coloring book moana', 'ART_AND_DESIGN', '3.9', '967', '14M', '500,000+', 'Free', '0', 'Everyone', 'Art & Design;Pretend Play', 'January 15, 2018', '2.0.0', '4.0.3 and up'], ['U Launcher Lite – FREE Live Cool Themes, Hide Apps', 'ART_AND_DESIGN', '4.7', '87510', '8.7M', '5,000,000+', 'Free', '0', 'Everyone', 'Art & Design', 'August 1, 2018', '1.2.4', '4.0.3 and up'], ['Sketch - Draw & Paint', 'ART_AND_DESIGN', '4.5', '215644', '25M', '50,000,000+', 'Free', '0', 'Teen', 'Art & Design', 'June 8, 2018', 'Varies with device', '4.2 and up'], ['Pixel Draw - Number Art Coloring Book', 'ART_AND_DESIGN', '4.3', '967', '2.8M', '100,000+', 'Free', '0', 'Everyone', 'Art & Design;Creativity', 'June 20, 2018', '1.1', '4.4 and up']]\n",
            "\n",
            "\n",
            "(7197, 16)\n",
            "\n",
            "\n",
            "[['284882215', 'Facebook', '389879808', 'USD', '0.0', '2974676', '212', '3.5', '3.5', '95.0', '4+', 'Social Networking', '37', '1', '29', '1'], ['389801252', 'Instagram', '113954816', 'USD', '0.0', '2161558', '1289', '4.5', '4.0', '10.23', '12+', 'Photo & Video', '37', '0', '29', '1'], ['529479190', 'Clash of Clans', '116476928', 'USD', '0.0', '2130805', '579', '4.5', '4.5', '9.24.12', '9+', 'Games', '38', '5', '18', '1'], ['420009108', 'Temple Run', '65921024', 'USD', '0.0', '1724546', '3842', '4.5', '4.0', '1.6.2', '9+', 'Games', '40', '5', '1', '1'], ['284035177', 'Pandora - Music & Radio', '130242560', 'USD', '0.0', '1126879', '3594', '4.0', '4.5', '8.4.1', '12+', 'Music', '37', '4', '1', '1']]\n"
          ],
          "name": "stdout"
        }
      ]
    },
    {
      "cell_type": "markdown",
      "metadata": {
        "id": "tHTIJXp7EHJt",
        "colab_type": "text"
      },
      "source": [
        "```\n",
        "The cell above explored some rows of the two files we will use after reading them as a list. The google store file has 10841 rows and 13 columns while the apple store file has 7197 rows and 16 columns\n",
        "\n",
        "In the next cell, we will explore the various columns and determine the ones we will use for analysis\n",
        "```"
      ]
    },
    {
      "cell_type": "code",
      "metadata": {
        "id": "Ek_yV6M9EHJu",
        "colab_type": "code",
        "colab": {},
        "outputId": "488bf6f8-0d28-4fd4-b9c7-466258b2cc5c"
      },
      "source": [
        "print(google_column)\n",
        "print('\\n')\n",
        "print(apple_column)"
      ],
      "execution_count": 0,
      "outputs": [
        {
          "output_type": "stream",
          "text": [
            "['App', 'Category', 'Rating', 'Reviews', 'Size', 'Installs', 'Type', 'Price', 'Content Rating', 'Genres', 'Last Updated', 'Current Ver', 'Android Ver']\n",
            "\n",
            "\n",
            "['id', 'track_name', 'size_bytes', 'currency', 'price', 'rating_count_tot', 'rating_count_ver', 'user_rating', 'user_rating_ver', 'ver', 'cont_rating', 'prime_genre', 'sup_devices.num', 'ipadSc_urls.num', 'lang.num', 'vpp_lic']\n"
          ],
          "name": "stdout"
        }
      ]
    },
    {
      "cell_type": "markdown",
      "metadata": {
        "id": "iYVOovQMEHJz",
        "colab_type": "text"
      },
      "source": [
        "```\n",
        "The cell above illustrates the various columns in the datasets. An explanation of each column can be found in the link below:\n",
        "```\n",
        "> Google: [LINK](https://www.kaggle.com/lava18/google-play-store-apps?select=googleplaystore.csv)\n",
        "\n",
        "> Apple: [LINK](https://www.kaggle.com/ramamet4/app-store-apple-data-set-10k-apps)\n"
      ]
    },
    {
      "cell_type": "code",
      "metadata": {
        "id": "rxwaBwGIEHJ0",
        "colab_type": "code",
        "colab": {},
        "outputId": "fe595e0b-20f2-4b39-fb3c-5ef0792156ec"
      },
      "source": [
        "\n",
        "for row in google_file:               #To check if there is a row with missing column\n",
        "    if len(row) != len(google_column):\n",
        "        print(row)\n",
        "        print(google_file.index(row))\n",
        "        \n",
        "\n",
        "for row in apple_file:                #To check if there is a row with missing column\n",
        "    if len(row) != len(apple_column):\n",
        "        print(row)\n",
        "        print(apple_file.index(row))\n",
        "        \n",
        "        \n",
        "#Removing the incomplete row in google_file\n",
        "del google_file[10472]"
      ],
      "execution_count": 0,
      "outputs": [
        {
          "output_type": "stream",
          "text": [
            "['Life Made WI-Fi Touchscreen Photo Frame', '1.9', '19', '3.0M', '1,000+', 'Free', '0', 'Everyone', '', 'February 11, 2018', '1.0.19', '4.0 and up']\n",
            "10472\n"
          ],
          "name": "stdout"
        }
      ]
    },
    {
      "cell_type": "code",
      "metadata": {
        "scrolled": true,
        "id": "4Um3OMgTEHJ5",
        "colab_type": "code",
        "colab": {},
        "outputId": "ffaae179-a098-46d3-818d-d5a1a98899c3"
      },
      "source": [
        "#To confirm that there are duplicated in the the two files\n",
        "\n",
        "for app in google_file:\n",
        "    if app[0]=='Instagram':\n",
        "        print(app)\n",
        "        \n",
        "for app in apple_file:\n",
        "    if app[1]=='Mannequin Challenge':\n",
        "        print(app)"
      ],
      "execution_count": 0,
      "outputs": [
        {
          "output_type": "stream",
          "text": [
            "['Instagram', 'SOCIAL', '4.5', '66577313', 'Varies with device', '1,000,000,000+', 'Free', '0', 'Teen', 'Social', 'July 31, 2018', 'Varies with device', 'Varies with device']\n",
            "['Instagram', 'SOCIAL', '4.5', '66577446', 'Varies with device', '1,000,000,000+', 'Free', '0', 'Teen', 'Social', 'July 31, 2018', 'Varies with device', 'Varies with device']\n",
            "['Instagram', 'SOCIAL', '4.5', '66577313', 'Varies with device', '1,000,000,000+', 'Free', '0', 'Teen', 'Social', 'July 31, 2018', 'Varies with device', 'Varies with device']\n",
            "['Instagram', 'SOCIAL', '4.5', '66509917', 'Varies with device', '1,000,000,000+', 'Free', '0', 'Teen', 'Social', 'July 31, 2018', 'Varies with device', 'Varies with device']\n",
            "['1173990889', 'Mannequin Challenge', '109705216', 'USD', '0.0', '668', '87', '3.0', '3.0', '1.4', '9+', 'Games', '37', '4', '1', '1']\n",
            "['1178454060', 'Mannequin Challenge', '59572224', 'USD', '0.0', '105', '58', '4.0', '4.5', '1.0.1', '4+', 'Games', '38', '5', '1', '1']\n"
          ],
          "name": "stdout"
        }
      ]
    },
    {
      "cell_type": "markdown",
      "metadata": {
        "id": "niWtEz0DEHJ-",
        "colab_type": "text"
      },
      "source": [
        "```\n",
        "The cell above shows that there are some duplicate data in both file which will be removed in the next cell, keeping only the row with the highest number of reviews.\n",
        "```"
      ]
    },
    {
      "cell_type": "code",
      "metadata": {
        "id": "qO1CdzKkEHJ_",
        "colab_type": "code",
        "colab": {},
        "outputId": "789d3307-4910-4f50-e2e1-7cea78a283a4"
      },
      "source": [
        "\n",
        "def remove_dup(file, col_id, col_rev):\n",
        "    file_dict = {}\n",
        "    for row in file:\n",
        "        if row[col_id] in file_dict and float(row[col_rev])>file_dict[row[col_id]]:\n",
        "            pass\n",
        "        elif row[col_id] not in file_dict or float(row[col_rev])>file_dict[row[col_id]]:\n",
        "            file_dict[row[col_id]] = float(row[col_rev])\n",
        "    \n",
        "    #file_dict now has all unique apps with the corresponding highest review\n",
        "    unique_list = []\n",
        "    already_added = []\n",
        "   \n",
        "    for row in file:\n",
        "         if float(row[col_rev]) == file_dict[row[col_id]] and row not in unique_list:\n",
        "            unique_list.append(row)\n",
        "    return unique_list\n",
        "        \n",
        "unique_google_data = remove_dup(google_file, 0, 3)\n",
        "unique_apple_data = remove_dup(apple_file, 1, 5)\n",
        "\n",
        "print(len(unique_google_data))\n",
        "#print('\\n')\n",
        "print(len(unique_apple_data))"
      ],
      "execution_count": 0,
      "outputs": [
        {
          "output_type": "stream",
          "text": [
            "9666\n",
            "7195\n"
          ],
          "name": "stdout"
        }
      ]
    },
    {
      "cell_type": "markdown",
      "metadata": {
        "id": "6I8xeblXEHKE",
        "colab_type": "text"
      },
      "source": [
        "```\n",
        "In the cell above, the duplicate cells were removed by looping through the data files using a dictionary that contains unique apps as keys with the highest reviews as values.\n",
        "```"
      ]
    },
    {
      "cell_type": "code",
      "metadata": {
        "id": "MRhs3vWdEHKF",
        "colab_type": "code",
        "colab": {}
      },
      "source": [
        "def non_english(value):        #returns a boolean depending on the ASCII code of three character in a string\n",
        "    i = 0\n",
        "    for character in value:\n",
        "        if ord(character) > 127:\n",
        "            i += 1\n",
        "            if i==3:\n",
        "                return False\n",
        "    return True\n",
        "\n",
        "def remove_non_english(file, col_id):\n",
        "    english_list = []\n",
        "    for row in file:\n",
        "        i = non_english(row[col_id])\n",
        "        if i:\n",
        "            english_list.append(row)\n",
        "    return english_list\n",
        "\n",
        "english_google_app = remove_non_english(unique_google_data, 0)\n",
        "english_apple_app = remove_non_english(unique_apple_data, 1)\n",
        "        "
      ],
      "execution_count": 0,
      "outputs": []
    },
    {
      "cell_type": "code",
      "metadata": {
        "id": "t_uoAXOfEHKM",
        "colab_type": "code",
        "colab": {}
      },
      "source": [
        ""
      ],
      "execution_count": 0,
      "outputs": []
    },
    {
      "cell_type": "markdown",
      "metadata": {
        "id": "KHrdXipkEHKU",
        "colab_type": "text"
      },
      "source": [
        "```\n",
        "In the cell above, rows containing apps which are non-english were removed using two functions. The first one returns a boolean value which is then used to sift through the raw data.\n",
        "\n",
        "So far, we have removed inaccurate, duplicate and non-english data. In the next cell, we will be separating free from paid apps since our major source of revenue is through ads.\n",
        "```"
      ]
    },
    {
      "cell_type": "code",
      "metadata": {
        "id": "sbxNQNyAEHKV",
        "colab_type": "code",
        "colab": {},
        "outputId": "0b23fc83-eb79-4468-e8b4-2e71fdd08a4d"
      },
      "source": [
        "def remove_paid(file, col_id, value='Free'):\n",
        "    free_app = []\n",
        "    for row in file:\n",
        "        if row[col_id]==value:\n",
        "            free_app.append(row)\n",
        "    return free_app\n",
        "\n",
        "free_google = remove_paid(english_google_app, 6)\n",
        "free_apple = remove_paid(english_apple_app, 4, value='0.0')\n",
        "\n",
        "print(len(free_google))\n",
        "print(len(free_apple))"
      ],
      "execution_count": 0,
      "outputs": [
        {
          "output_type": "stream",
          "text": [
            "8851\n",
            "3201\n"
          ],
          "name": "stdout"
        }
      ]
    },
    {
      "cell_type": "markdown",
      "metadata": {
        "id": "o3ez2ReyEHKb",
        "colab_type": "text"
      },
      "source": [
        "```\n",
        "The current number of rows we have for both dataset is shown above. Going forward, we will find app that had considerable success in both android and apple store given our business model.\n",
        "```"
      ]
    },
    {
      "cell_type": "code",
      "metadata": {
        "scrolled": true,
        "id": "CilAGyZSEHKc",
        "colab_type": "code",
        "colab": {},
        "outputId": "2bff6ab2-8115-4263-fd02-802910da276b"
      },
      "source": [
        "def freq_table(file, col_id):\n",
        "    freq_dict = {}\n",
        "    for row in file:\n",
        "        if row[col_id] not in freq_dict:\n",
        "            freq_dict[row[col_id]] = 1\n",
        "        else:\n",
        "            freq_dict[row[col_id]] += 1\n",
        "    \n",
        "    total_key = sum(freq_dict.values())       \n",
        "    for key in freq_dict:\n",
        "        freq_dict[key] = (freq_dict[key]/total_key)*100\n",
        "    return freq_dict\n",
        "\n",
        "def display_table(dataset, index):\n",
        "    table = freq_table(dataset, index)\n",
        "    table_display = []\n",
        "    for key in table:\n",
        "        key_val_as_tuple = (table[key], key)\n",
        "        table_display.append(key_val_as_tuple)\n",
        "\n",
        "    table_sorted = sorted(table_display, reverse = True)\n",
        "    for entry in table_sorted:\n",
        "        print(entry[1], ':', entry[0])\n",
        "        \n",
        "display_table(free_google, 1)\n",
        "print('\\n')\n",
        "display_table(free_google, 9)\n",
        "print('\\n')\n",
        "display_table(free_apple, 11)"
      ],
      "execution_count": 0,
      "outputs": [
        {
          "output_type": "stream",
          "text": [
            "FAMILY : 18.5063834594961\n",
            "GAME : 9.840695966557451\n",
            "TOOLS : 8.439724324935035\n",
            "BUSINESS : 4.598350468873574\n",
            "PRODUCTIVITY : 3.8978646480623658\n",
            "LIFESTYLE : 3.8865664896621848\n",
            "FINANCE : 3.7057959552592923\n",
            "MEDICAL : 3.5250254208564002\n",
            "SPORTS : 3.3894475200542313\n",
            "PERSONALIZATION : 3.321658569653146\n",
            "COMMUNICATION : 3.2312733024517004\n",
            "HEALTH_AND_FITNESS : 3.0843972432493505\n",
            "PHOTOGRAPHY : 2.948819342447181\n",
            "NEWS_AND_MAGAZINES : 2.801943283244831\n",
            "SOCIAL : 2.666365382442662\n",
            "TRAVEL_AND_LOCAL : 2.3387187888374195\n",
            "SHOPPING : 2.2596316800361542\n",
            "BOOKS_AND_REFERENCE : 2.135351937634166\n",
            "DATING : 1.8641961360298271\n",
            "VIDEO_PLAYERS : 1.7851090272285617\n",
            "MAPS_AND_NAVIGATION : 1.3896734832222348\n",
            "EDUCATION : 1.2879900576206078\n",
            "FOOD_AND_DRINK : 1.242797424019885\n",
            "ENTERTAINMENT : 1.1298158400180771\n",
            "LIBRARIES_AND_DEMO : 0.937747147215004\n",
            "AUTO_AND_VEHICLES : 0.9264489888148231\n",
            "HOUSE_AND_HOME : 0.8134674048130154\n",
            "WEATHER : 0.7908710880126538\n",
            "EVENTS : 0.7117839792113886\n",
            "ART_AND_DESIGN : 0.6778895040108462\n",
            "PARENTING : 0.6552931872104847\n",
            "COMICS : 0.6101005536097617\n",
            "BEAUTY : 0.5988023952095809\n",
            "\n",
            "\n",
            "Tools : 8.428426166534855\n",
            "Entertainment : 6.089707377697436\n",
            "Education : 5.366625240085867\n",
            "Business : 4.598350468873574\n",
            "Productivity : 3.8978646480623658\n",
            "Lifestyle : 3.875268331262004\n",
            "Finance : 3.7057959552592923\n",
            "Medical : 3.5250254208564002\n",
            "Sports : 3.457236470455316\n",
            "Personalization : 3.321658569653146\n",
            "Communication : 3.2312733024517004\n",
            "Action : 3.095695401649531\n",
            "Health & Fitness : 3.0843972432493505\n",
            "Photography : 2.948819342447181\n",
            "News & Magazines : 2.801943283244831\n",
            "Social : 2.666365382442662\n",
            "Travel & Local : 2.327420630437239\n",
            "Shopping : 2.2596316800361542\n",
            "Books & Reference : 2.135351937634166\n",
            "Simulation : 2.0449666704327196\n",
            "Dating : 1.8641961360298271\n",
            "Arcade : 1.8415998192294656\n",
            "Video Players & Editors : 1.7738108688283811\n",
            "Casual : 1.7625127104282001\n",
            "Maps & Navigation : 1.3896734832222348\n",
            "Food & Drink : 1.242797424019885\n",
            "Puzzle : 1.1298158400180771\n",
            "Racing : 0.9942379392159078\n",
            "Role Playing : 0.937747147215004\n",
            "Libraries & Demo : 0.937747147215004\n",
            "Auto & Vehicles : 0.9264489888148231\n",
            "Strategy : 0.9038526720144615\n",
            "House & Home : 0.8134674048130154\n",
            "Weather : 0.7908710880126538\n",
            "Events : 0.7117839792113886\n",
            "Adventure : 0.6665913456106655\n",
            "Comics : 0.5988023952095809\n",
            "Beauty : 0.5988023952095809\n",
            "Art & Design : 0.5988023952095809\n",
            "Parenting : 0.4971189696079539\n",
            "Card : 0.45192633600723076\n",
            "Trivia : 0.41803186080668847\n",
            "Casino : 0.41803186080668847\n",
            "Educational;Education : 0.3954355440063269\n",
            "Educational : 0.37283922720596546\n",
            "Board : 0.37283922720596546\n",
            "Education;Education : 0.3389447520054231\n",
            "Word : 0.2598576432041577\n",
            "Casual;Pretend Play : 0.23726132640379616\n",
            "Music : 0.20336685120325385\n",
            "Racing;Action & Adventure : 0.16947237600271156\n",
            "Puzzle;Brain Games : 0.16947237600271156\n",
            "Entertainment;Music & Video : 0.16947237600271156\n",
            "Casual;Brain Games : 0.14687605920235003\n",
            "Casual;Action & Adventure : 0.13557790080216925\n",
            "Arcade;Action & Adventure : 0.12427974240198847\n",
            "Action;Action & Adventure : 0.10168342560162692\n",
            "Simulation;Action & Adventure : 0.09038526720144617\n",
            "Educational;Pretend Play : 0.09038526720144617\n",
            "Board;Brain Games : 0.09038526720144617\n",
            "Parenting;Education : 0.0790871088012654\n",
            "Entertainment;Brain Games : 0.0790871088012654\n",
            "Parenting;Music & Video : 0.06778895040108462\n",
            "Educational;Brain Games : 0.06778895040108462\n",
            "Casual;Creativity : 0.06778895040108462\n",
            "Art & Design;Creativity : 0.06778895040108462\n",
            "Education;Pretend Play : 0.056490792000903844\n",
            "Role Playing;Pretend Play : 0.045192633600723085\n",
            "Education;Creativity : 0.045192633600723085\n",
            "Role Playing;Action & Adventure : 0.03389447520054231\n",
            "Puzzle;Action & Adventure : 0.03389447520054231\n",
            "Entertainment;Creativity : 0.03389447520054231\n",
            "Entertainment;Action & Adventure : 0.03389447520054231\n",
            "Educational;Creativity : 0.03389447520054231\n",
            "Educational;Action & Adventure : 0.03389447520054231\n",
            "Education;Music & Video : 0.03389447520054231\n",
            "Education;Brain Games : 0.03389447520054231\n",
            "Education;Action & Adventure : 0.03389447520054231\n",
            "Adventure;Action & Adventure : 0.03389447520054231\n",
            "Video Players & Editors;Music & Video : 0.022596316800361543\n",
            "Sports;Action & Adventure : 0.022596316800361543\n",
            "Simulation;Pretend Play : 0.022596316800361543\n",
            "Puzzle;Creativity : 0.022596316800361543\n",
            "Music;Music & Video : 0.022596316800361543\n",
            "Entertainment;Pretend Play : 0.022596316800361543\n",
            "Casual;Education : 0.022596316800361543\n",
            "Board;Action & Adventure : 0.022596316800361543\n",
            "Video Players & Editors;Creativity : 0.011298158400180771\n",
            "Trivia;Education : 0.011298158400180771\n",
            "Travel & Local;Action & Adventure : 0.011298158400180771\n",
            "Tools;Education : 0.011298158400180771\n",
            "Strategy;Education : 0.011298158400180771\n",
            "Strategy;Creativity : 0.011298158400180771\n",
            "Strategy;Action & Adventure : 0.011298158400180771\n",
            "Simulation;Education : 0.011298158400180771\n",
            "Role Playing;Brain Games : 0.011298158400180771\n",
            "Racing;Pretend Play : 0.011298158400180771\n",
            "Puzzle;Education : 0.011298158400180771\n",
            "Parenting;Brain Games : 0.011298158400180771\n",
            "Music & Audio;Music & Video : 0.011298158400180771\n",
            "Lifestyle;Pretend Play : 0.011298158400180771\n",
            "Lifestyle;Education : 0.011298158400180771\n",
            "Health & Fitness;Education : 0.011298158400180771\n",
            "Health & Fitness;Action & Adventure : 0.011298158400180771\n",
            "Entertainment;Education : 0.011298158400180771\n",
            "Communication;Creativity : 0.011298158400180771\n",
            "Comics;Creativity : 0.011298158400180771\n",
            "Casual;Music & Video : 0.011298158400180771\n",
            "Card;Action & Adventure : 0.011298158400180771\n",
            "Books & Reference;Education : 0.011298158400180771\n",
            "Art & Design;Pretend Play : 0.011298158400180771\n",
            "Art & Design;Action & Adventure : 0.011298158400180771\n",
            "Arcade;Pretend Play : 0.011298158400180771\n",
            "Adventure;Education : 0.011298158400180771\n",
            "\n",
            "\n",
            "Games : 58.23180256169947\n",
            "Entertainment : 7.841299593876913\n",
            "Photo & Video : 4.99843798812871\n",
            "Education : 3.6863480162449234\n",
            "Social Networking : 3.3114651671352706\n",
            "Shopping : 2.592939706341768\n",
            "Utilities : 2.4679787566385505\n",
            "Sports : 2.1555763823805063\n",
            "Music : 2.0618556701030926\n",
            "Health & Fitness : 2.0306154326772883\n",
            "Productivity : 1.7494532958450486\n",
            "Lifestyle : 1.5620118712902218\n",
            "News : 1.3433302093095907\n",
            "Travel : 1.2496094970321776\n",
            "Finance : 1.0934083099031553\n",
            "Weather : 0.8747266479225243\n",
            "Food & Drink : 0.8122461730709154\n",
            "Reference : 0.5310840362386754\n",
            "Business : 0.5310840362386754\n",
            "Book : 0.37488284910965325\n",
            "Navigation : 0.18744142455482662\n",
            "Medical : 0.18744142455482662\n",
            "Catalogs : 0.12496094970321774\n"
          ],
          "name": "stdout"
        }
      ]
    },
    {
      "cell_type": "markdown",
      "metadata": {
        "id": "acW7gJ72EHKj",
        "colab_type": "text"
      },
      "source": [
        "```\n",
        "In the cell above, we showed the freqency of certain columns in the dataset to illustrate the number of a particular group of apps on the store.\n",
        "\n",
        "For the Google app store, we discovered that Tools, Productivity and Business types of apps which can all be categorized as Productivity apps are predominant in the set. However, Game which also falls under entertainment also came up as a ubiquitous app in our analysis.\n",
        "\n",
        "For the IOS store, Gaming apps are predominantly rampant in the set which shows that they are common in the store as a free english based app.\n",
        "\n",
        "However, it must be noted that they analysis above only illustrate the freq of individual genre not their populatity among users. Thereofre, in the next cell, we will be carryig out an analysis to discover the apps with the highest user-base base on their genre\n",
        "```"
      ]
    },
    {
      "cell_type": "code",
      "metadata": {
        "scrolled": false,
        "id": "PAdTFK5TEHKk",
        "colab_type": "code",
        "colab": {},
        "outputId": "9f19ea54-8384-431b-a51f-efca9365b1c4"
      },
      "source": [
        "#calculating the average number of rating per genre of app in IOS apps\n",
        "\n",
        "for key in freq_table(free_apple, 11):\n",
        "    total = 0\n",
        "    len_genre = 0\n",
        "    for row in free_apple:\n",
        "        if row[11]==key:\n",
        "            total += float(row[5])\n",
        "            len_genre += 1\n",
        "    avg_rating = total/len_genre\n",
        "    print(key, ':', avg_rating)\n",
        "    "
      ],
      "execution_count": 0,
      "outputs": [
        {
          "output_type": "stream",
          "text": [
            "Social Networking : 71548.34905660378\n",
            "Photo & Video : 28441.54375\n",
            "Games : 22910.83100858369\n",
            "Music : 57326.530303030304\n",
            "Reference : 79350.4705882353\n",
            "Health & Fitness : 23298.015384615384\n",
            "Weather : 52279.892857142855\n",
            "Utilities : 19156.493670886077\n",
            "Travel : 28243.8\n",
            "Shopping : 27230.734939759037\n",
            "News : 21248.023255813954\n",
            "Navigation : 86090.33333333333\n",
            "Lifestyle : 16815.48\n",
            "Entertainment : 14195.358565737051\n",
            "Food & Drink : 33333.92307692308\n",
            "Sports : 23008.898550724636\n",
            "Book : 46384.916666666664\n",
            "Finance : 32367.02857142857\n",
            "Education : 7003.983050847458\n",
            "Productivity : 21028.410714285714\n",
            "Business : 7491.117647058823\n",
            "Catalogs : 4004.0\n",
            "Medical : 612.0\n"
          ],
          "name": "stdout"
        }
      ]
    },
    {
      "cell_type": "markdown",
      "metadata": {
        "id": "F91OvakKEHKp",
        "colab_type": "text"
      },
      "source": [
        "```\n",
        "In the cell above, we analysed the average number of users per app genre. From this, we discovered that the most used apps are those that has to do with entertainment; Social Networking & Referencing apps.\n",
        "\n",
        "Hence, this is the group of app we should pay attention to if we want to launch an english-based free app on IOS store that would attract a lot of users. \n",
        "```"
      ]
    },
    {
      "cell_type": "code",
      "metadata": {
        "scrolled": false,
        "id": "z2JDFcpSEHKp",
        "colab_type": "code",
        "colab": {},
        "outputId": "632fd41d-422f-4bb7-83a1-222fc00f074d"
      },
      "source": [
        "for key in freq_table(free_google, 1):\n",
        "    total = 0\n",
        "    len_category = 0\n",
        "    for row in free_google:\n",
        "        if row[1]==key:\n",
        "            install = row[5].replace(',', '')\n",
        "            install = float(install.replace('+', ''))\n",
        "            total += install\n",
        "            len_category += 1\n",
        "    avg_rating = total/len_category\n",
        "    print(key, ':', avg_rating)\n",
        "    "
      ],
      "execution_count": 0,
      "outputs": [
        {
          "output_type": "stream",
          "text": [
            "ART_AND_DESIGN : 1905351.6666666667\n",
            "AUTO_AND_VEHICLES : 647317.8170731707\n",
            "BEAUTY : 513151.88679245283\n",
            "BOOKS_AND_REFERENCE : 8814199.78835979\n",
            "BUSINESS : 1712290.1474201474\n",
            "COMICS : 832613.8888888889\n",
            "COMMUNICATION : 38590581.08741259\n",
            "DATING : 854028.8303030303\n",
            "EDUCATION : 3082017.543859649\n",
            "ENTERTAINMENT : 21134600.0\n",
            "EVENTS : 253542.22222222222\n",
            "FINANCE : 1387692.475609756\n",
            "FOOD_AND_DRINK : 1924897.7363636363\n",
            "HEALTH_AND_FITNESS : 4188821.9853479853\n",
            "HOUSE_AND_HOME : 1341839.736111111\n",
            "LIBRARIES_AND_DEMO : 638503.734939759\n",
            "LIFESTYLE : 1446158.2238372094\n",
            "GAME : 15795366.762342136\n",
            "FAMILY : 2702561.471306471\n",
            "MEDICAL : 120616.48717948717\n",
            "SOCIAL : 23253652.127118643\n",
            "SHOPPING : 7051692.925\n",
            "PHOTOGRAPHY : 17805627.643678162\n",
            "SPORTS : 3650602.276666667\n",
            "TRAVEL_AND_LOCAL : 13984077.710144928\n",
            "TOOLS : 10722929.684069611\n",
            "PERSONALIZATION : 5201482.6122448975\n",
            "PRODUCTIVITY : 16787331.344927534\n",
            "PARENTING : 542603.6206896552\n",
            "WEATHER : 5145550.285714285\n",
            "VIDEO_PLAYERS : 24852732.40506329\n",
            "NEWS_AND_MAGAZINES : 9549178.467741935\n",
            "MAPS_AND_NAVIGATION : 4049274.6341463416\n"
          ],
          "name": "stdout"
        }
      ]
    },
    {
      "cell_type": "markdown",
      "metadata": {
        "id": "JKGcNedKEHKy",
        "colab_type": "text"
      },
      "source": [
        "```\n",
        "The google data set illustrated that entertainment and referencing app on Google store have high number of user. Since our business model looks for an app profile that will be profitable both on IOS and Android, we need to consider this analysis and the preceding one.\n",
        "\n",
        "Hence, entertainment app would be the best profile for our suggested free english ad-revenue-based app. \n",
        "```"
      ]
    }
  ]
}